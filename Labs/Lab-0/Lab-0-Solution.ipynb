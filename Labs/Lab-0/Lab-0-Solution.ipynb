{
 "cells": [
  {
   "cell_type": "markdown",
   "metadata": {},
   "source": [
    "# Applications of Deep Learning to High Energy Physics\n",
    "## Lab 0- Getting Started\n",
    "\n",
    "\n",
    "### Introduction- Jupyter Basics\n",
    "\n",
    "If you are seeing this page, you have successfully connected to our python server via ssh tunnel, logged in, and navigated to this notebook. Jupyter notebooks consist of cells that can hold text or code (usually python). This text that you are reading, was written into a text cell as simple text \"coding\" language known as mark-down. When a cell is run (either automatically at start of the notebook or manually by pressing shift-enter), the mark-down text is interpreted into nice looking text. Running a code cell will execute the code in that cell and give you the results. If you make a mistake, you can usually simply change the cell and re-run. But be aware that since you ran the mistaken cell already, whatever code that was properly executed before your mistake/error, was already executed and has therefore changed your current python environment accordingly. In some cases this situation will be problematic, and you will need to rerun the notebook from the start by pressing the \"reload\" botton (next to the \"stop\" button) above.\n",
    "\n",
    "### Python Overview\n",
    "\n",
    "Our first few labs are intended to try to force everyone to learn sufficient python, numpy, and HDF5 to perform some basic tasks. In this very first lab, we will introduce the fundamentals of python language. The following notebooks were copied from [github pages of Rajath Kumar](https://github.com/rajathkmp/Python-Lectures) from Indian Institute of Science, [License](https://creativecommons.org/licenses/by/3.0/). They provide a quick overview of basic python syntax. \n",
    "\n",
    "Carefully read through the following notebooks and familiarize yourself with python. Run the code cells (by pressing shift-enter when in the cell) in the notebooks and make sure you understand the output. \n",
    "\n",
    "   * [Variables, Operators, ...](Python-Lectures/01.ipynb)\n",
    "   * [Print Statements](Python-Lectures/02.ipynb)\n",
    "   * [Data Structures](Python-Lectures/03.ipynb)\n",
    "   * [Strings](Python-Lectures/04.ipynb)\n",
    "   * [Control Flow](Python-Lectures/05.ipynb)\n",
    "   * [Functions](Python-Lectures/06.ipynb)\n",
    "   * [Classes](Python-Lectures/07.ipynb)\n"
   ]
  },
  {
   "cell_type": "markdown",
   "metadata": {
    "collapsed": true
   },
   "source": [
    "### Reading Code\n",
    "\n",
    "Reading and understanding code written by others is an important part of learning to code yourself. Carefully read through these [python exercises](http://www.practicepython.org) and their solutions. Then as practice, pick 3 exercises and solve them in this notebook below. You will be asked next week to solve an exercise in class. \n",
    "\n"
   ]
  },
  {
   "cell_type": "markdown",
   "metadata": {},
   "source": [
    "### 1. Exercise (1) "
   ]
  },
  {
   "cell_type": "code",
   "execution_count": 10,
   "metadata": {},
   "outputs": [
    {
     "name": "stdout",
     "output_type": "stream",
     "text": [
      "Enter your name:Zach\n",
      "Enter your age22\n",
      "Hello,Zach, you will turn 100 in the year 2096\n"
     ]
    }
   ],
   "source": [
    "name = input('Enter your name:')\n",
    "age = input('Enter your age')\n",
    "age  =int(age)\n",
    "print('Hello,'+ name +', you will turn 100 in the year ' + str(2118-int(age)))"
   ]
  },
  {
   "cell_type": "markdown",
   "metadata": {},
   "source": [
    "### 2. Exercise (3) "
   ]
  },
  {
   "cell_type": "code",
   "execution_count": 52,
   "metadata": {},
   "outputs": [
    {
     "name": "stdout",
     "output_type": "stream",
     "text": [
      "[1, 1, 2, 3]\n"
     ]
    }
   ],
   "source": [
    "a = [1, 1, 2, 3, 5, 8, 13, 21, 34, 55, 89]\n",
    "lessThanFive = []\n",
    "for i in range(len(a)):\n",
    "    if a[i] < 5:\n",
    "        lessThanFive.append(a[i])\n",
    "print(lessThanFive)"
   ]
  },
  {
   "cell_type": "markdown",
   "metadata": {},
   "source": [
    "### 3. Exercise (16) "
   ]
  },
  {
   "cell_type": "code",
   "execution_count": 57,
   "metadata": {},
   "outputs": [
    {
     "name": "stdout",
     "output_type": "stream",
     "text": [
      "s#*}3P_S/U-x\n"
     ]
    }
   ],
   "source": [
    "import random\n",
    "possibleChars = 'abcdefghijklmnopqrstuvwxyzABCDEFGHIJKLMNOPQRSTUVWXYZ1234567890-=!@#$%^&*()_+[]\\\\{}|;\\':\",./<>?'\n",
    "passwordLen = 12;\n",
    "password = ''\n",
    "password = ''.join(random.sample(possibleChars,passwordLen))\n",
    "print (password)"
   ]
  },
  {
   "cell_type": "markdown",
   "metadata": {},
   "source": [
    "### Test Yourself\n",
    "\n",
    "Write a function that takes in a string and determines the number of unique words (ignoring capitalization and punctuation) and returns an dictionary where the key of each entry is the word and the value is the number of times the word appears in the string. Demonstrate that your function works by applying it to the introduction paragraph above."
   ]
  },
  {
   "cell_type": "code",
   "execution_count": 58,
   "metadata": {},
   "outputs": [
    {
     "data": {
      "text/plain": [
       "{'a': 4,\n",
       " 'above': 1,\n",
       " 'accordingly': 1,\n",
       " 'already': 2,\n",
       " 'and': 5,\n",
       " 'are': 2,\n",
       " 'as': 2,\n",
       " 'at': 1,\n",
       " 'automatically': 1,\n",
       " 'aware': 1,\n",
       " 'be': 2,\n",
       " 'before': 1,\n",
       " 'botton': 1,\n",
       " 'but': 1,\n",
       " 'button': 1,\n",
       " 'by': 2,\n",
       " 'can': 2,\n",
       " 'cases': 1,\n",
       " 'cell': 6,\n",
       " 'cells': 1,\n",
       " 'change': 1,\n",
       " 'changed': 1,\n",
       " 'code': 4,\n",
       " 'coding': 1,\n",
       " 'connected': 1,\n",
       " 'consist': 1,\n",
       " 'current': 1,\n",
       " 'either': 1,\n",
       " 'environment': 1,\n",
       " 'execute': 1,\n",
       " 'executed': 2,\n",
       " 'from': 1,\n",
       " 'give': 1,\n",
       " 'has': 1,\n",
       " 'have': 1,\n",
       " 'hold': 1,\n",
       " 'if': 2,\n",
       " 'in': 3,\n",
       " 'interpreted': 1,\n",
       " 'into': 2,\n",
       " 'is': 2,\n",
       " 'jupyter': 1,\n",
       " 'known': 1,\n",
       " 'language': 1,\n",
       " 'logged': 1,\n",
       " 'looking': 1,\n",
       " 'make': 1,\n",
       " 'manually': 1,\n",
       " 'markdown': 2,\n",
       " 'mistake': 1,\n",
       " 'mistakeerror': 1,\n",
       " 'mistaken': 1,\n",
       " 'navigated': 1,\n",
       " 'need': 1,\n",
       " 'next': 1,\n",
       " 'nice': 1,\n",
       " 'notebook': 3,\n",
       " 'notebooks': 1,\n",
       " 'of': 2,\n",
       " 'or': 2,\n",
       " 'our': 1,\n",
       " 'page': 1,\n",
       " 'pressing': 2,\n",
       " 'problematic': 1,\n",
       " 'properly': 1,\n",
       " 'python': 3,\n",
       " 'ran': 1,\n",
       " 'reading': 1,\n",
       " 'reload': 1,\n",
       " 'rerun': 2,\n",
       " 'results': 1,\n",
       " 'run': 1,\n",
       " 'running': 1,\n",
       " 'seeing': 1,\n",
       " 'server': 1,\n",
       " 'shiftenter': 1,\n",
       " 'simple': 1,\n",
       " 'simply': 1,\n",
       " 'since': 1,\n",
       " 'situation': 1,\n",
       " 'some': 1,\n",
       " 'ssh': 1,\n",
       " 'start': 2,\n",
       " 'stop': 1,\n",
       " 'successfully': 1,\n",
       " 'text': 6,\n",
       " 'that': 5,\n",
       " 'the': 10,\n",
       " 'therefore': 1,\n",
       " 'this': 4,\n",
       " 'to': 4,\n",
       " 'tunnel': 1,\n",
       " 'usually': 2,\n",
       " 'via': 1,\n",
       " 'was': 3,\n",
       " 'whatever': 1,\n",
       " 'when': 1,\n",
       " 'will': 3,\n",
       " 'written': 1,\n",
       " 'you': 8,\n",
       " 'your': 2}"
      ]
     },
     "execution_count": 58,
     "metadata": {},
     "output_type": "execute_result"
    }
   ],
   "source": [
    "import re\n",
    "myString = 'If you are seeing this page, you have successfully connected to our python server via ssh tunnel, logged in, and navigated to this notebook. Jupyter notebooks consist of cells that can hold text or code (usually python). This text that you are reading, was written into a text cell as simple text \"coding\" language known as mark-down. When a cell is run (either automatically at start of the notebook or manually by pressing shift-enter), the mark-down text is interpreted into nice looking text. Running a code cell will execute the code in that cell and give you the results. If you make a mistake, you can usually simply change the cell and re-run. But be aware that since you ran the mistaken cell already, whatever code that was properly executed before your mistake/error, was already executed and has therefore changed your current python environment accordingly. In some cases this situation will be problematic, and you will need to rerun the notebook from the start by pressing the \"reload\" botton (next to the \"stop\" button) above.';\n",
    "myString = re.sub(r'[^\\w\\s]','',myString) #I don't actually know regular expressions; I just googled this.\n",
    "myString = myString.lower().split();\n",
    "length = len(myString)\n",
    "uniques = dict()\n",
    "for i in range(length):\n",
    "    if myString[i] in uniques:\n",
    "        uniques[myString[i]] += 1\n",
    "    else:\n",
    "        uniques[myString[i]] = 1\n",
    "uniques"
   ]
  },
  {
   "cell_type": "markdown",
   "metadata": {},
   "source": [
    "Monday February 5th 2018 in class code"
   ]
  },
  {
   "cell_type": "code",
   "execution_count": 43,
   "metadata": {},
   "outputs": [
    {
     "name": "stdout",
     "output_type": "stream",
     "text": [
      "Enter a number: 256\n",
      "256 is composite\n"
     ]
    }
   ],
   "source": [
    "number = input('Enter a number: ');\n",
    "number = int(number)\n",
    "for i in range(2, number+1):\n",
    "    if (number%i == 0) and (i != number):\n",
    "        print (str(number) + ' is composite')\n",
    "        break\n",
    "    elif (i == number):\n",
    "        print (str(number) + ' is prime!')"
   ]
  }
 ],
 "metadata": {
  "kernelspec": {
   "display_name": "Python 3",
   "language": "python",
   "name": "python3"
  },
  "language_info": {
   "codemirror_mode": {
    "name": "ipython",
    "version": 3
   },
   "file_extension": ".py",
   "mimetype": "text/x-python",
   "name": "python",
   "nbconvert_exporter": "python",
   "pygments_lexer": "ipython3",
   "version": "3.5.2"
  }
 },
 "nbformat": 4,
 "nbformat_minor": 2
}
