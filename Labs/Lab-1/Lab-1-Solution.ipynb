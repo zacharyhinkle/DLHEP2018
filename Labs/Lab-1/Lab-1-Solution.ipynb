{
 "cells": [
  {
   "cell_type": "markdown",
   "metadata": {},
   "source": [
    "## Lab 1- Python\n",
    "\n",
    "Let start with generating some fake random data. You can get a random number between 0 and 1 using the python random module as follow:"
   ]
  },
  {
   "cell_type": "code",
   "execution_count": 1,
   "metadata": {},
   "outputs": [
    {
     "name": "stdout",
     "output_type": "stream",
     "text": [
      "The Value of x is 0.774233784045\n"
     ]
    }
   ],
   "source": [
    "import random\n",
    "x=random.random()\n",
    "print \"The Value of x is\", x"
   ]
  },
  {
   "cell_type": "markdown",
   "metadata": {},
   "source": [
    "### Exercise 1.1\n",
    "Using random, write a function GenerateData(N, mymin, mymax), that returns a python list containing N random numbers between specified minimum and maximum value. Note that you may want to quickly work out on paper how to turn numbers between 0 and 1 to between other values. "
   ]
  },
  {
   "cell_type": "code",
   "execution_count": 2,
   "metadata": {},
   "outputs": [
    {
     "name": "stdout",
     "output_type": "stream",
     "text": [
      "Data Type: <type 'list'>\n",
      "Data Length: 1000\n",
      "Type of Data Contents: <type 'float'>\n",
      "Data Minimum: -9.98425732412\n",
      "Data Maximum: 9.95397426188\n"
     ]
    }
   ],
   "source": [
    "# Skeleton\n",
    "def GenerateData(N,min,max):\n",
    "    out = []\n",
    "    for i in range(N):\n",
    "        out.append(min+random.random()*(max-min))\n",
    "       # out.append(random.uniform(min,max))\n",
    "    return out\n",
    "\n",
    "Data=GenerateData(1000,-10,10)\n",
    "print \"Data Type:\", type(Data)\n",
    "print \"Data Length:\", len(Data)\n",
    "if len(Data)>0: \n",
    "    print \"Type of Data Contents:\", type(Data[0])\n",
    "    print \"Data Minimum:\", min(Data)\n",
    "    print \"Data Maximum:\", max(Data)"
   ]
  },
  {
   "cell_type": "markdown",
   "metadata": {},
   "source": [
    "### Exercise 1.2\n",
    "\n",
    "Write a function that computes the mean of values in a list."
   ]
  },
  {
   "cell_type": "code",
   "execution_count": 3,
   "metadata": {
    "scrolled": true
   },
   "outputs": [
    {
     "name": "stdout",
     "output_type": "stream",
     "text": [
      "Mean of Data: -0.135995032302\n"
     ]
    }
   ],
   "source": [
    "# Skeleton\n",
    "def mean(Data):\n",
    "    return sum(Data)/len(Data)\n",
    "\n",
    "print \"Mean of Data:\", mean(Data)"
   ]
  },
  {
   "cell_type": "markdown",
   "metadata": {},
   "source": [
    "### Exercise 1.3\n",
    "\n",
    "Write a function the applies a booling function (that returns true/false) to every element in data, and return a list of indices of elements where the result was true. Use this function to find the indices of positive entries. "
   ]
  },
  {
   "cell_type": "code",
   "execution_count": 4,
   "metadata": {
    "collapsed": true
   },
   "outputs": [],
   "source": [
    "def where(mylist,myfunc):\n",
    "    out= []\n",
    "    \n",
    "    for i in range(0, len(mylist)):\n",
    "        if myfunc(mylist[i]):\n",
    "            out.append(i)\n",
    "            \n",
    "    return out"
   ]
  },
  {
   "cell_type": "markdown",
   "metadata": {},
   "source": [
    "### Exercise 1.4\n",
    "\n",
    "The inrange(mymin,mymax) function below returns a function that tests if it's input is between the specified values. Use this function, in conjunction to your solution to 1.3, to demonstrate that your data is \"flat\". Hint: pick several sub-ranges and show that the number of data point divided by the size of the range is roughly constant. "
   ]
  },
  {
   "cell_type": "code",
   "execution_count": 5,
   "metadata": {},
   "outputs": [
    {
     "name": "stdout",
     "output_type": "stream",
     "text": [
      "Number of Entries in F1 divided by F1's range: 47\n",
      "Number of Entries in F2 divided by F2's range: 50\n",
      "Number of Entries in F3 divided by F3's range: 50\n",
      "Number of Entries in F4 divided by F4's range: 50.8333333333\n"
     ]
    }
   ],
   "source": [
    "def inrange(mymin,mymax):\n",
    "    def testrange(x):\n",
    "        return x<mymax and x>=mymin\n",
    "    return testrange\n",
    "\n",
    "\n",
    "F1=inrange(-7,-6)\n",
    "F2=inrange(4,6)\n",
    "F3=inrange(-10,10)\n",
    "F4=inrange(-0.5,.7)\n",
    "\n",
    "print \"Number of Entries in F1 divided by F1's range:\", len(where(Data,F1))\n",
    "print \"Number of Entries in F2 divided by F2's range:\", len(where(Data,F2))/2\n",
    "print \"Number of Entries in F3 divided by F3's range:\", len(where(Data,F3))/20\n",
    "print \"Number of Entries in F4 divided by F4's range:\", len(where(Data,F4))/1.2\n"
   ]
  },
  {
   "cell_type": "markdown",
   "metadata": {},
   "source": [
    "### Exercise 1.5\n",
    "\n",
    "Repeat Exercise 1.5 using the built in python functions sum and map instead of your solution to 1.3. "
   ]
  },
  {
   "cell_type": "code",
   "execution_count": 6,
   "metadata": {},
   "outputs": [
    {
     "name": "stdout",
     "output_type": "stream",
     "text": [
      "Number of Entries in F1 divided by F1's range: 47\n",
      "Number of Entries in F1 divided by F1's range: 50\n",
      "Number of Entries in F1 divided by F1's range: 50\n",
      "Number of Entries in F1 divided by F1's range: 50.8333333333\n"
     ]
    }
   ],
   "source": [
    "F1 = list(filter(lambda x: x > -7 and x < -6, Data))\n",
    "F2 = list(filter(lambda x: x > 4 and x < 6, Data))\n",
    "F3 = list(filter(lambda x: x > -10 and x < 10, Data))\n",
    "F4 = list(filter(lambda x: x > -0.5 and x < .7, Data))\n",
    "print \"Number of Entries in F1 divided by F1's range:\", len(F1)\n",
    "print \"Number of Entries in F1 divided by F1's range:\", len(F2)/2\n",
    "print \"Number of Entries in F1 divided by F1's range:\", len(F3)/20\n",
    "print \"Number of Entries in F1 divided by F1's range:\", len(F4)/1.2"
   ]
  },
  {
   "cell_type": "markdown",
   "metadata": {},
   "source": [
    "### Exercise 1.6\n",
    "\n",
    "Write a new function called GenerateDataFromFunction(N,mymin,mymax,myfunc), that instead of generating a flat distribution, generates a distribution with functional form coded in myfunc. Note that myfunc will always be > 0.  \n",
    "\n",
    "Use your function to generate 1000 numbers that are Gaussian distributed, using the Gaussian function below. Confirm the mean of the data is close to mean you specify when building the Gaussian. \n",
    "\n",
    "Hint: A simple, but slow, solution is to a draw random number test_x within the specified range and another number p between the min and max of the function (which you will have to determine). If p<=function(test_x), then place test_x on the output. If not, repeat the process, drawing two new numbers. Repeat until you have the specified number of generated numbers, N. For this problem, it's OK to determine the min and max by numerically sampling the function.  \n",
    "\n"
   ]
  },
  {
   "cell_type": "code",
   "execution_count": 9,
   "metadata": {
    "collapsed": true
   },
   "outputs": [],
   "source": [
    "import numpy as np\n",
    "def GenerateDataFromFunction(N,mymin,mymax,myfunc):\n",
    "    out = []\n",
    "    ### BEGIN SOLUTION\n",
    "    spacing = 1000\n",
    "    funcSample = np.linspace(mymin,mymax,num = spacing)\n",
    "    funcSample = map(myfunc, funcSample)\n",
    "    funcMax = max(funcSample)\n",
    "    funcMin = min(funcSample)\n",
    "    \n",
    "    goodGuess= 0;\n",
    "    while goodGuess < N:\n",
    "        x = random.uniform(mymin,mymax)\n",
    "        p = random.uniform(funcMin,funcMax)\n",
    "        if p <= myfunc(x):\n",
    "            out.append(x)\n",
    "            goodGuess += 1\n",
    "    \n",
    "    ### END SOLUTION\n",
    "    \n",
    "    return out"
   ]
  },
  {
   "cell_type": "code",
   "execution_count": 13,
   "metadata": {},
   "outputs": [
    {
     "name": "stdout",
     "output_type": "stream",
     "text": [
      "mean of g1: 0.0217468889452\n",
      "mean of g2: 9.62111430119\n",
      "Number of Entries in F1 divided by F1's range: 368.0\n",
      "Number of Entries in F1 divided by F1's range: 400.0\n",
      "Number of Entries in F1 divided by F1's range: 356.0\n",
      "Number of Entries in F1 divided by F1's range: 361.666666667\n"
     ]
    }
   ],
   "source": [
    "import math\n",
    "\n",
    "def gaussian(mean, sigma):\n",
    "    def f(x):\n",
    "        return math.exp((-(x-mean)**2)/(2*sigma**2))/math.sqrt(math.pi*sigma)\n",
    "    return f\n",
    "\n",
    "# Example Instantiation\n",
    "g1=gaussian(0,1)\n",
    "g2=gaussian(10,3)\n",
    "\n",
    "\n",
    "### BEGIN SOLUTION\n",
    "newData1 = GenerateDataFromFunction(1000,-67,23,g1)\n",
    "newData2 = GenerateDataFromFunction(1000,-45,17,g2)\n",
    "\n",
    "print \"mean of g1:\", mean(newData1)\n",
    "print \"mean of g2:\", mean(newData2)\n",
    "\n",
    "F1 = list(filter(lambda x: x > -0.5 and x < 0, newData1))\n",
    "F2 = list(filter(lambda x: x > 0 and x < 0.5, newData1))\n",
    "F3 = list(filter(lambda x: x > -0.25 and x < 0, newData1))\n",
    "F4 = list(filter(lambda x: x > -0.5 and x < .7, newData1))\n",
    "\n",
    "print \"Number of Entries in F1 divided by F1's range:\", len(F1)/.5\n",
    "print \"Number of Entries in F1 divided by F1's range:\", len(F2)/.5\n",
    "print \"Number of Entries in F1 divided by F1's range:\", len(F3)/.25\n",
    "print \"Number of Entries in F1 divided by F1's range:\", len(F4)/1.2\n",
    "    \n",
    "### END SOLUTION\n"
   ]
  },
  {
   "cell_type": "code",
   "execution_count": null,
   "metadata": {
    "collapsed": true
   },
   "outputs": [],
   "source": []
  }
 ],
 "metadata": {
  "kernelspec": {
   "display_name": "Python 2",
   "language": "python",
   "name": "python2"
  },
  "language_info": {
   "codemirror_mode": {
    "name": "ipython",
    "version": 2
   },
   "file_extension": ".py",
   "mimetype": "text/x-python",
   "name": "python",
   "nbconvert_exporter": "python",
   "pygments_lexer": "ipython2",
   "version": "2.7.12"
  }
 },
 "nbformat": 4,
 "nbformat_minor": 2
}
